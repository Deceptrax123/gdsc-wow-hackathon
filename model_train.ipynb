{
  "cells": [
    {
      "cell_type": "code",
      "execution_count": null,
      "metadata": {
        "id": "__bqIbeRFofW"
      },
      "outputs": [],
      "source": [
        "import pandas as pd\n",
        "import io"
      ]
    },
    {
      "cell_type": "code",
      "execution_count": null,
      "metadata": {
        "colab": {
          "base_uri": "https://localhost:8080/"
        },
        "id": "2v5GshKzMDyH",
        "outputId": "2f2a6861-a445-4e9f-f90f-be80821ed742"
      },
      "outputs": [
        {
          "output_type": "stream",
          "name": "stderr",
          "text": [
            "<ipython-input-178-8f6863e1231c>:1: DtypeWarning: Columns (16,17,18,22,23,24,25,26,27,28,29,30,31,32,33,76) have mixed types. Specify dtype option on import or set low_memory=False.\n",
            "  all_data=pd.read_csv(\"Mortality_09_UP.csv\",nrows=25175)\n"
          ]
        }
      ],
      "source": [
        "all_data=pd.read_csv(\"Mortality_09_UP.csv\",nrows=25175)"
      ]
    },
    {
      "cell_type": "code",
      "execution_count": null,
      "metadata": {
        "colab": {
          "base_uri": "https://localhost:8080/",
          "height": 487
        },
        "id": "K_Z6quqsMJ5L",
        "outputId": "8d11dd0d-3a1d-42ff-b5b5-89a9c34ccc3d"
      },
      "outputs": [
        {
          "output_type": "execute_result",
          "data": {
            "text/plain": [
              "           id   m_id  client_m_id   hl_id  house_no  house_hold_no  state  \\\n",
              "0      712232  375.0          NaN  2944.0        63              3      9   \n",
              "1      712240  383.0          NaN  2997.0        28              1      9   \n",
              "2      109886  246.0          NaN     NaN        58              1      9   \n",
              "3      712216  359.0          NaN  2706.0       196              1      9   \n",
              "4      712224  367.0          NaN  2777.0       253              1      9   \n",
              "...       ...    ...          ...     ...       ...            ...    ...   \n",
              "25170  643135  410.0        401.0  6366.0       244              1      9   \n",
              "25171  643143  938.0       1009.0  6483.0        66              1      9   \n",
              "25172  102148   38.0          NaN     NaN        56              1      9   \n",
              "25173  643119  394.0        385.0  6140.0        34              1      9   \n",
              "25174  643127  402.0        393.0  6229.0       122              1      9   \n",
              "\n",
              "       district  rural  stratum_code  ...  householdstatus  isheadchanged  \\\n",
              "0            58      1             1  ...              NaN            NaN   \n",
              "1            58      1             1  ...              NaN            NaN   \n",
              "2            62      1             2  ...              1.0            1.0   \n",
              "3            58      1             1  ...              NaN            NaN   \n",
              "4            58      1             1  ...              NaN            NaN   \n",
              "...         ...    ...           ...  ...              ...            ...   \n",
              "25170         3      1             2  ...              NaN            NaN   \n",
              "25171         3      1             2  ...              NaN            NaN   \n",
              "25172        61      2             0  ...              1.0            2.0   \n",
              "25173         3      1             2  ...              NaN            NaN   \n",
              "25174         3      1             2  ...              NaN            NaN   \n",
              "\n",
              "               fidh          fidx        as     wt   x schedule_id year  v126  \n",
              "0               NaN  2.944096e+10 -0.630351  68.37 NaN           4    1   NaN  \n",
              "1               NaN  2.997096e+10 -4.369212  68.37 NaN           4    1   NaN  \n",
              "2      9.620340e+13           NaN       NaN  20.95 NaN           4    3   NaN  \n",
              "3               NaN  2.706096e+10 -2.996541  68.37 NaN           4    1   NaN  \n",
              "4               NaN  2.777096e+10 -3.951137  68.37 NaN           4    1   NaN  \n",
              "...             ...           ...       ...    ...  ..         ...  ...   ...  \n",
              "25170           NaN  6.366090e+10  5.052841  54.85 NaN           4    1   NaN  \n",
              "25171           NaN  6.483090e+10  0.292205  54.85 NaN           4    1   NaN  \n",
              "25172  9.610740e+13           NaN       NaN  54.00 NaN           4    3   NaN  \n",
              "25173           NaN  6.140090e+10 -2.376460  54.85 NaN           4    1   NaN  \n",
              "25174           NaN  6.229090e+10 -0.566020  54.85 NaN           4    1   NaN  \n",
              "\n",
              "[25175 rows x 122 columns]"
            ],
            "text/html": [
              "\n",
              "  <div id=\"df-f35fa774-6f17-4e5a-b4bd-4f723f7c0691\">\n",
              "    <div class=\"colab-df-container\">\n",
              "      <div>\n",
              "<style scoped>\n",
              "    .dataframe tbody tr th:only-of-type {\n",
              "        vertical-align: middle;\n",
              "    }\n",
              "\n",
              "    .dataframe tbody tr th {\n",
              "        vertical-align: top;\n",
              "    }\n",
              "\n",
              "    .dataframe thead th {\n",
              "        text-align: right;\n",
              "    }\n",
              "</style>\n",
              "<table border=\"1\" class=\"dataframe\">\n",
              "  <thead>\n",
              "    <tr style=\"text-align: right;\">\n",
              "      <th></th>\n",
              "      <th>id</th>\n",
              "      <th>m_id</th>\n",
              "      <th>client_m_id</th>\n",
              "      <th>hl_id</th>\n",
              "      <th>house_no</th>\n",
              "      <th>house_hold_no</th>\n",
              "      <th>state</th>\n",
              "      <th>district</th>\n",
              "      <th>rural</th>\n",
              "      <th>stratum_code</th>\n",
              "      <th>...</th>\n",
              "      <th>householdstatus</th>\n",
              "      <th>isheadchanged</th>\n",
              "      <th>fidh</th>\n",
              "      <th>fidx</th>\n",
              "      <th>as</th>\n",
              "      <th>wt</th>\n",
              "      <th>x</th>\n",
              "      <th>schedule_id</th>\n",
              "      <th>year</th>\n",
              "      <th>v126</th>\n",
              "    </tr>\n",
              "  </thead>\n",
              "  <tbody>\n",
              "    <tr>\n",
              "      <th>0</th>\n",
              "      <td>712232</td>\n",
              "      <td>375.0</td>\n",
              "      <td>NaN</td>\n",
              "      <td>2944.0</td>\n",
              "      <td>63</td>\n",
              "      <td>3</td>\n",
              "      <td>9</td>\n",
              "      <td>58</td>\n",
              "      <td>1</td>\n",
              "      <td>1</td>\n",
              "      <td>...</td>\n",
              "      <td>NaN</td>\n",
              "      <td>NaN</td>\n",
              "      <td>NaN</td>\n",
              "      <td>2.944096e+10</td>\n",
              "      <td>-0.630351</td>\n",
              "      <td>68.37</td>\n",
              "      <td>NaN</td>\n",
              "      <td>4</td>\n",
              "      <td>1</td>\n",
              "      <td>NaN</td>\n",
              "    </tr>\n",
              "    <tr>\n",
              "      <th>1</th>\n",
              "      <td>712240</td>\n",
              "      <td>383.0</td>\n",
              "      <td>NaN</td>\n",
              "      <td>2997.0</td>\n",
              "      <td>28</td>\n",
              "      <td>1</td>\n",
              "      <td>9</td>\n",
              "      <td>58</td>\n",
              "      <td>1</td>\n",
              "      <td>1</td>\n",
              "      <td>...</td>\n",
              "      <td>NaN</td>\n",
              "      <td>NaN</td>\n",
              "      <td>NaN</td>\n",
              "      <td>2.997096e+10</td>\n",
              "      <td>-4.369212</td>\n",
              "      <td>68.37</td>\n",
              "      <td>NaN</td>\n",
              "      <td>4</td>\n",
              "      <td>1</td>\n",
              "      <td>NaN</td>\n",
              "    </tr>\n",
              "    <tr>\n",
              "      <th>2</th>\n",
              "      <td>109886</td>\n",
              "      <td>246.0</td>\n",
              "      <td>NaN</td>\n",
              "      <td>NaN</td>\n",
              "      <td>58</td>\n",
              "      <td>1</td>\n",
              "      <td>9</td>\n",
              "      <td>62</td>\n",
              "      <td>1</td>\n",
              "      <td>2</td>\n",
              "      <td>...</td>\n",
              "      <td>1.0</td>\n",
              "      <td>1.0</td>\n",
              "      <td>9.620340e+13</td>\n",
              "      <td>NaN</td>\n",
              "      <td>NaN</td>\n",
              "      <td>20.95</td>\n",
              "      <td>NaN</td>\n",
              "      <td>4</td>\n",
              "      <td>3</td>\n",
              "      <td>NaN</td>\n",
              "    </tr>\n",
              "    <tr>\n",
              "      <th>3</th>\n",
              "      <td>712216</td>\n",
              "      <td>359.0</td>\n",
              "      <td>NaN</td>\n",
              "      <td>2706.0</td>\n",
              "      <td>196</td>\n",
              "      <td>1</td>\n",
              "      <td>9</td>\n",
              "      <td>58</td>\n",
              "      <td>1</td>\n",
              "      <td>1</td>\n",
              "      <td>...</td>\n",
              "      <td>NaN</td>\n",
              "      <td>NaN</td>\n",
              "      <td>NaN</td>\n",
              "      <td>2.706096e+10</td>\n",
              "      <td>-2.996541</td>\n",
              "      <td>68.37</td>\n",
              "      <td>NaN</td>\n",
              "      <td>4</td>\n",
              "      <td>1</td>\n",
              "      <td>NaN</td>\n",
              "    </tr>\n",
              "    <tr>\n",
              "      <th>4</th>\n",
              "      <td>712224</td>\n",
              "      <td>367.0</td>\n",
              "      <td>NaN</td>\n",
              "      <td>2777.0</td>\n",
              "      <td>253</td>\n",
              "      <td>1</td>\n",
              "      <td>9</td>\n",
              "      <td>58</td>\n",
              "      <td>1</td>\n",
              "      <td>1</td>\n",
              "      <td>...</td>\n",
              "      <td>NaN</td>\n",
              "      <td>NaN</td>\n",
              "      <td>NaN</td>\n",
              "      <td>2.777096e+10</td>\n",
              "      <td>-3.951137</td>\n",
              "      <td>68.37</td>\n",
              "      <td>NaN</td>\n",
              "      <td>4</td>\n",
              "      <td>1</td>\n",
              "      <td>NaN</td>\n",
              "    </tr>\n",
              "    <tr>\n",
              "      <th>...</th>\n",
              "      <td>...</td>\n",
              "      <td>...</td>\n",
              "      <td>...</td>\n",
              "      <td>...</td>\n",
              "      <td>...</td>\n",
              "      <td>...</td>\n",
              "      <td>...</td>\n",
              "      <td>...</td>\n",
              "      <td>...</td>\n",
              "      <td>...</td>\n",
              "      <td>...</td>\n",
              "      <td>...</td>\n",
              "      <td>...</td>\n",
              "      <td>...</td>\n",
              "      <td>...</td>\n",
              "      <td>...</td>\n",
              "      <td>...</td>\n",
              "      <td>...</td>\n",
              "      <td>...</td>\n",
              "      <td>...</td>\n",
              "      <td>...</td>\n",
              "    </tr>\n",
              "    <tr>\n",
              "      <th>25170</th>\n",
              "      <td>643135</td>\n",
              "      <td>410.0</td>\n",
              "      <td>401.0</td>\n",
              "      <td>6366.0</td>\n",
              "      <td>244</td>\n",
              "      <td>1</td>\n",
              "      <td>9</td>\n",
              "      <td>3</td>\n",
              "      <td>1</td>\n",
              "      <td>2</td>\n",
              "      <td>...</td>\n",
              "      <td>NaN</td>\n",
              "      <td>NaN</td>\n",
              "      <td>NaN</td>\n",
              "      <td>6.366090e+10</td>\n",
              "      <td>5.052841</td>\n",
              "      <td>54.85</td>\n",
              "      <td>NaN</td>\n",
              "      <td>4</td>\n",
              "      <td>1</td>\n",
              "      <td>NaN</td>\n",
              "    </tr>\n",
              "    <tr>\n",
              "      <th>25171</th>\n",
              "      <td>643143</td>\n",
              "      <td>938.0</td>\n",
              "      <td>1009.0</td>\n",
              "      <td>6483.0</td>\n",
              "      <td>66</td>\n",
              "      <td>1</td>\n",
              "      <td>9</td>\n",
              "      <td>3</td>\n",
              "      <td>1</td>\n",
              "      <td>2</td>\n",
              "      <td>...</td>\n",
              "      <td>NaN</td>\n",
              "      <td>NaN</td>\n",
              "      <td>NaN</td>\n",
              "      <td>6.483090e+10</td>\n",
              "      <td>0.292205</td>\n",
              "      <td>54.85</td>\n",
              "      <td>NaN</td>\n",
              "      <td>4</td>\n",
              "      <td>1</td>\n",
              "      <td>NaN</td>\n",
              "    </tr>\n",
              "    <tr>\n",
              "      <th>25172</th>\n",
              "      <td>102148</td>\n",
              "      <td>38.0</td>\n",
              "      <td>NaN</td>\n",
              "      <td>NaN</td>\n",
              "      <td>56</td>\n",
              "      <td>1</td>\n",
              "      <td>9</td>\n",
              "      <td>61</td>\n",
              "      <td>2</td>\n",
              "      <td>0</td>\n",
              "      <td>...</td>\n",
              "      <td>1.0</td>\n",
              "      <td>2.0</td>\n",
              "      <td>9.610740e+13</td>\n",
              "      <td>NaN</td>\n",
              "      <td>NaN</td>\n",
              "      <td>54.00</td>\n",
              "      <td>NaN</td>\n",
              "      <td>4</td>\n",
              "      <td>3</td>\n",
              "      <td>NaN</td>\n",
              "    </tr>\n",
              "    <tr>\n",
              "      <th>25173</th>\n",
              "      <td>643119</td>\n",
              "      <td>394.0</td>\n",
              "      <td>385.0</td>\n",
              "      <td>6140.0</td>\n",
              "      <td>34</td>\n",
              "      <td>1</td>\n",
              "      <td>9</td>\n",
              "      <td>3</td>\n",
              "      <td>1</td>\n",
              "      <td>2</td>\n",
              "      <td>...</td>\n",
              "      <td>NaN</td>\n",
              "      <td>NaN</td>\n",
              "      <td>NaN</td>\n",
              "      <td>6.140090e+10</td>\n",
              "      <td>-2.376460</td>\n",
              "      <td>54.85</td>\n",
              "      <td>NaN</td>\n",
              "      <td>4</td>\n",
              "      <td>1</td>\n",
              "      <td>NaN</td>\n",
              "    </tr>\n",
              "    <tr>\n",
              "      <th>25174</th>\n",
              "      <td>643127</td>\n",
              "      <td>402.0</td>\n",
              "      <td>393.0</td>\n",
              "      <td>6229.0</td>\n",
              "      <td>122</td>\n",
              "      <td>1</td>\n",
              "      <td>9</td>\n",
              "      <td>3</td>\n",
              "      <td>1</td>\n",
              "      <td>2</td>\n",
              "      <td>...</td>\n",
              "      <td>NaN</td>\n",
              "      <td>NaN</td>\n",
              "      <td>NaN</td>\n",
              "      <td>6.229090e+10</td>\n",
              "      <td>-0.566020</td>\n",
              "      <td>54.85</td>\n",
              "      <td>NaN</td>\n",
              "      <td>4</td>\n",
              "      <td>1</td>\n",
              "      <td>NaN</td>\n",
              "    </tr>\n",
              "  </tbody>\n",
              "</table>\n",
              "<p>25175 rows × 122 columns</p>\n",
              "</div>\n",
              "      <button class=\"colab-df-convert\" onclick=\"convertToInteractive('df-f35fa774-6f17-4e5a-b4bd-4f723f7c0691')\"\n",
              "              title=\"Convert this dataframe to an interactive table.\"\n",
              "              style=\"display:none;\">\n",
              "        \n",
              "  <svg xmlns=\"http://www.w3.org/2000/svg\" height=\"24px\"viewBox=\"0 0 24 24\"\n",
              "       width=\"24px\">\n",
              "    <path d=\"M0 0h24v24H0V0z\" fill=\"none\"/>\n",
              "    <path d=\"M18.56 5.44l.94 2.06.94-2.06 2.06-.94-2.06-.94-.94-2.06-.94 2.06-2.06.94zm-11 1L8.5 8.5l.94-2.06 2.06-.94-2.06-.94L8.5 2.5l-.94 2.06-2.06.94zm10 10l.94 2.06.94-2.06 2.06-.94-2.06-.94-.94-2.06-.94 2.06-2.06.94z\"/><path d=\"M17.41 7.96l-1.37-1.37c-.4-.4-.92-.59-1.43-.59-.52 0-1.04.2-1.43.59L10.3 9.45l-7.72 7.72c-.78.78-.78 2.05 0 2.83L4 21.41c.39.39.9.59 1.41.59.51 0 1.02-.2 1.41-.59l7.78-7.78 2.81-2.81c.8-.78.8-2.07 0-2.86zM5.41 20L4 18.59l7.72-7.72 1.47 1.35L5.41 20z\"/>\n",
              "  </svg>\n",
              "      </button>\n",
              "      \n",
              "  <style>\n",
              "    .colab-df-container {\n",
              "      display:flex;\n",
              "      flex-wrap:wrap;\n",
              "      gap: 12px;\n",
              "    }\n",
              "\n",
              "    .colab-df-convert {\n",
              "      background-color: #E8F0FE;\n",
              "      border: none;\n",
              "      border-radius: 50%;\n",
              "      cursor: pointer;\n",
              "      display: none;\n",
              "      fill: #1967D2;\n",
              "      height: 32px;\n",
              "      padding: 0 0 0 0;\n",
              "      width: 32px;\n",
              "    }\n",
              "\n",
              "    .colab-df-convert:hover {\n",
              "      background-color: #E2EBFA;\n",
              "      box-shadow: 0px 1px 2px rgba(60, 64, 67, 0.3), 0px 1px 3px 1px rgba(60, 64, 67, 0.15);\n",
              "      fill: #174EA6;\n",
              "    }\n",
              "\n",
              "    [theme=dark] .colab-df-convert {\n",
              "      background-color: #3B4455;\n",
              "      fill: #D2E3FC;\n",
              "    }\n",
              "\n",
              "    [theme=dark] .colab-df-convert:hover {\n",
              "      background-color: #434B5C;\n",
              "      box-shadow: 0px 1px 3px 1px rgba(0, 0, 0, 0.15);\n",
              "      filter: drop-shadow(0px 1px 2px rgba(0, 0, 0, 0.3));\n",
              "      fill: #FFFFFF;\n",
              "    }\n",
              "  </style>\n",
              "\n",
              "      <script>\n",
              "        const buttonEl =\n",
              "          document.querySelector('#df-f35fa774-6f17-4e5a-b4bd-4f723f7c0691 button.colab-df-convert');\n",
              "        buttonEl.style.display =\n",
              "          google.colab.kernel.accessAllowed ? 'block' : 'none';\n",
              "\n",
              "        async function convertToInteractive(key) {\n",
              "          const element = document.querySelector('#df-f35fa774-6f17-4e5a-b4bd-4f723f7c0691');\n",
              "          const dataTable =\n",
              "            await google.colab.kernel.invokeFunction('convertToInteractive',\n",
              "                                                     [key], {});\n",
              "          if (!dataTable) return;\n",
              "\n",
              "          const docLinkHtml = 'Like what you see? Visit the ' +\n",
              "            '<a target=\"_blank\" href=https://colab.research.google.com/notebooks/data_table.ipynb>data table notebook</a>'\n",
              "            + ' to learn more about interactive tables.';\n",
              "          element.innerHTML = '';\n",
              "          dataTable['output_type'] = 'display_data';\n",
              "          await google.colab.output.renderOutput(dataTable, element);\n",
              "          const docLink = document.createElement('div');\n",
              "          docLink.innerHTML = docLinkHtml;\n",
              "          element.appendChild(docLink);\n",
              "        }\n",
              "      </script>\n",
              "    </div>\n",
              "  </div>\n",
              "  "
            ]
          },
          "metadata": {},
          "execution_count": 179
        }
      ],
      "source": [
        "all_data"
      ]
    },
    {
      "cell_type": "code",
      "execution_count": null,
      "metadata": {
        "id": "2dRz699vY0bf"
      },
      "outputs": [],
      "source": [
        "columns = [\"age\",\"sex\", \"highest_qualification\", \"rural\", \"disability_status\", \"is_water_filter\", \"chew\", \"smoke\", \"alcohol\",\"treatment_source\"]\n",
        "death = all_data[columns].copy()"
      ]
    },
    {
      "cell_type": "code",
      "source": [
        "for column in columns:\n",
        "    death[column].fillna(death[column].mode()[0], inplace=True)\n"
      ],
      "metadata": {
        "id": "gc4_n89QpesQ"
      },
      "execution_count": null,
      "outputs": []
    },
    {
      "cell_type": "code",
      "source": [
        "death.isnull().sum()"
      ],
      "metadata": {
        "colab": {
          "base_uri": "https://localhost:8080/"
        },
        "id": "WIKBYuxLpiqo",
        "outputId": "93155224-9637-4469-ee37-e2954e39c92e"
      },
      "execution_count": null,
      "outputs": [
        {
          "output_type": "execute_result",
          "data": {
            "text/plain": [
              "age                      0\n",
              "sex                      0\n",
              "highest_qualification    0\n",
              "rural                    0\n",
              "disability_status        0\n",
              "is_water_filter          0\n",
              "chew                     0\n",
              "smoke                    0\n",
              "alcohol                  0\n",
              "treatment_source         0\n",
              "dtype: int64"
            ]
          },
          "metadata": {},
          "execution_count": 182
        }
      ]
    },
    {
      "cell_type": "code",
      "source": [
        "death"
      ],
      "metadata": {
        "id": "CnpmYoLlGclT",
        "outputId": "a693a44f-c2c1-44bd-cbf0-0828cf3fd29d",
        "colab": {
          "base_uri": "https://localhost:8080/",
          "height": 487
        }
      },
      "execution_count": null,
      "outputs": [
        {
          "output_type": "execute_result",
          "data": {
            "text/plain": [
              "        age  sex  highest_qualification  rural  disability_status  \\\n",
              "0      43.0  1.0                    4.0      1                0.0   \n",
              "1      70.0  2.0                    0.0      1                0.0   \n",
              "2      57.0  2.0                    3.0      1                0.0   \n",
              "3      50.0  1.0                    0.0      1                0.0   \n",
              "4      65.0  2.0                    0.0      1                0.0   \n",
              "...     ...  ...                    ...    ...                ...   \n",
              "25170  38.0  1.0                    4.0      1                0.0   \n",
              "25171  38.0  2.0                    0.0      1                0.0   \n",
              "25172  42.0  1.0                    0.0      2                0.0   \n",
              "25173  35.0  1.0                    0.0      1                0.0   \n",
              "25174  60.0  2.0                    0.0      1                0.0   \n",
              "\n",
              "       is_water_filter  chew  smoke  alcohol  treatment_source  \n",
              "0                  2.0   7.0    4.0      4.0               0.0  \n",
              "1                  2.0   5.0    4.0      4.0               9.0  \n",
              "2                  2.0   7.0    4.0      4.0               0.0  \n",
              "3                  2.0   1.0    1.0      1.0               9.0  \n",
              "4                  2.0   7.0    4.0      4.0               0.0  \n",
              "...                ...   ...    ...      ...               ...  \n",
              "25170              2.0   3.0    4.0      4.0               9.0  \n",
              "25171              2.0   7.0    4.0      4.0               8.0  \n",
              "25172              2.0   1.0    1.0      4.0               6.0  \n",
              "25173              2.0   7.0    1.0      4.0               8.0  \n",
              "25174              2.0   7.0    4.0      4.0               8.0  \n",
              "\n",
              "[25175 rows x 10 columns]"
            ],
            "text/html": [
              "\n",
              "  <div id=\"df-af1f83e5-f201-4fb1-a5f0-903b07d2b084\">\n",
              "    <div class=\"colab-df-container\">\n",
              "      <div>\n",
              "<style scoped>\n",
              "    .dataframe tbody tr th:only-of-type {\n",
              "        vertical-align: middle;\n",
              "    }\n",
              "\n",
              "    .dataframe tbody tr th {\n",
              "        vertical-align: top;\n",
              "    }\n",
              "\n",
              "    .dataframe thead th {\n",
              "        text-align: right;\n",
              "    }\n",
              "</style>\n",
              "<table border=\"1\" class=\"dataframe\">\n",
              "  <thead>\n",
              "    <tr style=\"text-align: right;\">\n",
              "      <th></th>\n",
              "      <th>age</th>\n",
              "      <th>sex</th>\n",
              "      <th>highest_qualification</th>\n",
              "      <th>rural</th>\n",
              "      <th>disability_status</th>\n",
              "      <th>is_water_filter</th>\n",
              "      <th>chew</th>\n",
              "      <th>smoke</th>\n",
              "      <th>alcohol</th>\n",
              "      <th>treatment_source</th>\n",
              "    </tr>\n",
              "  </thead>\n",
              "  <tbody>\n",
              "    <tr>\n",
              "      <th>0</th>\n",
              "      <td>43.0</td>\n",
              "      <td>1.0</td>\n",
              "      <td>4.0</td>\n",
              "      <td>1</td>\n",
              "      <td>0.0</td>\n",
              "      <td>2.0</td>\n",
              "      <td>7.0</td>\n",
              "      <td>4.0</td>\n",
              "      <td>4.0</td>\n",
              "      <td>0.0</td>\n",
              "    </tr>\n",
              "    <tr>\n",
              "      <th>1</th>\n",
              "      <td>70.0</td>\n",
              "      <td>2.0</td>\n",
              "      <td>0.0</td>\n",
              "      <td>1</td>\n",
              "      <td>0.0</td>\n",
              "      <td>2.0</td>\n",
              "      <td>5.0</td>\n",
              "      <td>4.0</td>\n",
              "      <td>4.0</td>\n",
              "      <td>9.0</td>\n",
              "    </tr>\n",
              "    <tr>\n",
              "      <th>2</th>\n",
              "      <td>57.0</td>\n",
              "      <td>2.0</td>\n",
              "      <td>3.0</td>\n",
              "      <td>1</td>\n",
              "      <td>0.0</td>\n",
              "      <td>2.0</td>\n",
              "      <td>7.0</td>\n",
              "      <td>4.0</td>\n",
              "      <td>4.0</td>\n",
              "      <td>0.0</td>\n",
              "    </tr>\n",
              "    <tr>\n",
              "      <th>3</th>\n",
              "      <td>50.0</td>\n",
              "      <td>1.0</td>\n",
              "      <td>0.0</td>\n",
              "      <td>1</td>\n",
              "      <td>0.0</td>\n",
              "      <td>2.0</td>\n",
              "      <td>1.0</td>\n",
              "      <td>1.0</td>\n",
              "      <td>1.0</td>\n",
              "      <td>9.0</td>\n",
              "    </tr>\n",
              "    <tr>\n",
              "      <th>4</th>\n",
              "      <td>65.0</td>\n",
              "      <td>2.0</td>\n",
              "      <td>0.0</td>\n",
              "      <td>1</td>\n",
              "      <td>0.0</td>\n",
              "      <td>2.0</td>\n",
              "      <td>7.0</td>\n",
              "      <td>4.0</td>\n",
              "      <td>4.0</td>\n",
              "      <td>0.0</td>\n",
              "    </tr>\n",
              "    <tr>\n",
              "      <th>...</th>\n",
              "      <td>...</td>\n",
              "      <td>...</td>\n",
              "      <td>...</td>\n",
              "      <td>...</td>\n",
              "      <td>...</td>\n",
              "      <td>...</td>\n",
              "      <td>...</td>\n",
              "      <td>...</td>\n",
              "      <td>...</td>\n",
              "      <td>...</td>\n",
              "    </tr>\n",
              "    <tr>\n",
              "      <th>25170</th>\n",
              "      <td>38.0</td>\n",
              "      <td>1.0</td>\n",
              "      <td>4.0</td>\n",
              "      <td>1</td>\n",
              "      <td>0.0</td>\n",
              "      <td>2.0</td>\n",
              "      <td>3.0</td>\n",
              "      <td>4.0</td>\n",
              "      <td>4.0</td>\n",
              "      <td>9.0</td>\n",
              "    </tr>\n",
              "    <tr>\n",
              "      <th>25171</th>\n",
              "      <td>38.0</td>\n",
              "      <td>2.0</td>\n",
              "      <td>0.0</td>\n",
              "      <td>1</td>\n",
              "      <td>0.0</td>\n",
              "      <td>2.0</td>\n",
              "      <td>7.0</td>\n",
              "      <td>4.0</td>\n",
              "      <td>4.0</td>\n",
              "      <td>8.0</td>\n",
              "    </tr>\n",
              "    <tr>\n",
              "      <th>25172</th>\n",
              "      <td>42.0</td>\n",
              "      <td>1.0</td>\n",
              "      <td>0.0</td>\n",
              "      <td>2</td>\n",
              "      <td>0.0</td>\n",
              "      <td>2.0</td>\n",
              "      <td>1.0</td>\n",
              "      <td>1.0</td>\n",
              "      <td>4.0</td>\n",
              "      <td>6.0</td>\n",
              "    </tr>\n",
              "    <tr>\n",
              "      <th>25173</th>\n",
              "      <td>35.0</td>\n",
              "      <td>1.0</td>\n",
              "      <td>0.0</td>\n",
              "      <td>1</td>\n",
              "      <td>0.0</td>\n",
              "      <td>2.0</td>\n",
              "      <td>7.0</td>\n",
              "      <td>1.0</td>\n",
              "      <td>4.0</td>\n",
              "      <td>8.0</td>\n",
              "    </tr>\n",
              "    <tr>\n",
              "      <th>25174</th>\n",
              "      <td>60.0</td>\n",
              "      <td>2.0</td>\n",
              "      <td>0.0</td>\n",
              "      <td>1</td>\n",
              "      <td>0.0</td>\n",
              "      <td>2.0</td>\n",
              "      <td>7.0</td>\n",
              "      <td>4.0</td>\n",
              "      <td>4.0</td>\n",
              "      <td>8.0</td>\n",
              "    </tr>\n",
              "  </tbody>\n",
              "</table>\n",
              "<p>25175 rows × 10 columns</p>\n",
              "</div>\n",
              "      <button class=\"colab-df-convert\" onclick=\"convertToInteractive('df-af1f83e5-f201-4fb1-a5f0-903b07d2b084')\"\n",
              "              title=\"Convert this dataframe to an interactive table.\"\n",
              "              style=\"display:none;\">\n",
              "        \n",
              "  <svg xmlns=\"http://www.w3.org/2000/svg\" height=\"24px\"viewBox=\"0 0 24 24\"\n",
              "       width=\"24px\">\n",
              "    <path d=\"M0 0h24v24H0V0z\" fill=\"none\"/>\n",
              "    <path d=\"M18.56 5.44l.94 2.06.94-2.06 2.06-.94-2.06-.94-.94-2.06-.94 2.06-2.06.94zm-11 1L8.5 8.5l.94-2.06 2.06-.94-2.06-.94L8.5 2.5l-.94 2.06-2.06.94zm10 10l.94 2.06.94-2.06 2.06-.94-2.06-.94-.94-2.06-.94 2.06-2.06.94z\"/><path d=\"M17.41 7.96l-1.37-1.37c-.4-.4-.92-.59-1.43-.59-.52 0-1.04.2-1.43.59L10.3 9.45l-7.72 7.72c-.78.78-.78 2.05 0 2.83L4 21.41c.39.39.9.59 1.41.59.51 0 1.02-.2 1.41-.59l7.78-7.78 2.81-2.81c.8-.78.8-2.07 0-2.86zM5.41 20L4 18.59l7.72-7.72 1.47 1.35L5.41 20z\"/>\n",
              "  </svg>\n",
              "      </button>\n",
              "      \n",
              "  <style>\n",
              "    .colab-df-container {\n",
              "      display:flex;\n",
              "      flex-wrap:wrap;\n",
              "      gap: 12px;\n",
              "    }\n",
              "\n",
              "    .colab-df-convert {\n",
              "      background-color: #E8F0FE;\n",
              "      border: none;\n",
              "      border-radius: 50%;\n",
              "      cursor: pointer;\n",
              "      display: none;\n",
              "      fill: #1967D2;\n",
              "      height: 32px;\n",
              "      padding: 0 0 0 0;\n",
              "      width: 32px;\n",
              "    }\n",
              "\n",
              "    .colab-df-convert:hover {\n",
              "      background-color: #E2EBFA;\n",
              "      box-shadow: 0px 1px 2px rgba(60, 64, 67, 0.3), 0px 1px 3px 1px rgba(60, 64, 67, 0.15);\n",
              "      fill: #174EA6;\n",
              "    }\n",
              "\n",
              "    [theme=dark] .colab-df-convert {\n",
              "      background-color: #3B4455;\n",
              "      fill: #D2E3FC;\n",
              "    }\n",
              "\n",
              "    [theme=dark] .colab-df-convert:hover {\n",
              "      background-color: #434B5C;\n",
              "      box-shadow: 0px 1px 3px 1px rgba(0, 0, 0, 0.15);\n",
              "      filter: drop-shadow(0px 1px 2px rgba(0, 0, 0, 0.3));\n",
              "      fill: #FFFFFF;\n",
              "    }\n",
              "  </style>\n",
              "\n",
              "      <script>\n",
              "        const buttonEl =\n",
              "          document.querySelector('#df-af1f83e5-f201-4fb1-a5f0-903b07d2b084 button.colab-df-convert');\n",
              "        buttonEl.style.display =\n",
              "          google.colab.kernel.accessAllowed ? 'block' : 'none';\n",
              "\n",
              "        async function convertToInteractive(key) {\n",
              "          const element = document.querySelector('#df-af1f83e5-f201-4fb1-a5f0-903b07d2b084');\n",
              "          const dataTable =\n",
              "            await google.colab.kernel.invokeFunction('convertToInteractive',\n",
              "                                                     [key], {});\n",
              "          if (!dataTable) return;\n",
              "\n",
              "          const docLinkHtml = 'Like what you see? Visit the ' +\n",
              "            '<a target=\"_blank\" href=https://colab.research.google.com/notebooks/data_table.ipynb>data table notebook</a>'\n",
              "            + ' to learn more about interactive tables.';\n",
              "          element.innerHTML = '';\n",
              "          dataTable['output_type'] = 'display_data';\n",
              "          await google.colab.output.renderOutput(dataTable, element);\n",
              "          const docLink = document.createElement('div');\n",
              "          docLink.innerHTML = docLinkHtml;\n",
              "          element.appendChild(docLink);\n",
              "        }\n",
              "      </script>\n",
              "    </div>\n",
              "  </div>\n",
              "  "
            ]
          },
          "metadata": {},
          "execution_count": 223
        }
      ]
    },
    {
      "cell_type": "code",
      "source": [
        "death.dtypes"
      ],
      "metadata": {
        "id": "9KF8cBrpFtKG",
        "outputId": "4f84779a-a034-4ab7-839b-5023e5ca5a05",
        "colab": {
          "base_uri": "https://localhost:8080/"
        }
      },
      "execution_count": null,
      "outputs": [
        {
          "output_type": "execute_result",
          "data": {
            "text/plain": [
              "age                      float64\n",
              "sex                      float64\n",
              "highest_qualification    float64\n",
              "rural                      int64\n",
              "disability_status        float64\n",
              "is_water_filter          float64\n",
              "chew                     float64\n",
              "smoke                    float64\n",
              "alcohol                  float64\n",
              "treatment_source         float64\n",
              "dtype: object"
            ]
          },
          "metadata": {},
          "execution_count": 221
        }
      ]
    },
    {
      "cell_type": "code",
      "source": [
        "x=death.drop('age',axis=1)\n",
        "y=death['age']"
      ],
      "metadata": {
        "id": "JWoVMu4kq_0k"
      },
      "execution_count": null,
      "outputs": []
    },
    {
      "cell_type": "code",
      "source": [
        "x.shape"
      ],
      "metadata": {
        "colab": {
          "base_uri": "https://localhost:8080/"
        },
        "id": "DTBjdWv1rHKD",
        "outputId": "0d63eac2-55ab-4743-f20c-e33c2edd16bb"
      },
      "execution_count": null,
      "outputs": [
        {
          "output_type": "execute_result",
          "data": {
            "text/plain": [
              "(25175, 9)"
            ]
          },
          "metadata": {},
          "execution_count": 184
        }
      ]
    },
    {
      "cell_type": "code",
      "source": [
        "x.dtypes"
      ],
      "metadata": {
        "id": "guIUGSszFwJt",
        "outputId": "782f8e98-c5af-4025-ff35-24f53d28e28a",
        "colab": {
          "base_uri": "https://localhost:8080/"
        }
      },
      "execution_count": null,
      "outputs": [
        {
          "output_type": "execute_result",
          "data": {
            "text/plain": [
              "sex                      float64\n",
              "highest_qualification    float64\n",
              "rural                      int64\n",
              "disability_status        float64\n",
              "is_water_filter          float64\n",
              "chew                     float64\n",
              "smoke                    float64\n",
              "alcohol                  float64\n",
              "treatment_source         float64\n",
              "dtype: object"
            ]
          },
          "metadata": {},
          "execution_count": 222
        }
      ]
    },
    {
      "cell_type": "code",
      "source": [
        "y.shape"
      ],
      "metadata": {
        "colab": {
          "base_uri": "https://localhost:8080/"
        },
        "id": "YbDv1mqYrItn",
        "outputId": "7078b7ea-4bce-496f-9595-f03074b629c1"
      },
      "execution_count": null,
      "outputs": [
        {
          "output_type": "execute_result",
          "data": {
            "text/plain": [
              "(25175,)"
            ]
          },
          "metadata": {},
          "execution_count": 185
        }
      ]
    },
    {
      "cell_type": "code",
      "source": [
        "#train-test split\n",
        "from sklearn.model_selection import train_test_split\n",
        "\n",
        "X_train, X_test,y_train, y_test = train_test_split(x,y ,random_state=104,test_size=0.25,shuffle=True)"
      ],
      "metadata": {
        "id": "luOCyZesrTTW"
      },
      "execution_count": null,
      "outputs": []
    },
    {
      "cell_type": "code",
      "source": [
        "X_train.shape"
      ],
      "metadata": {
        "colab": {
          "base_uri": "https://localhost:8080/"
        },
        "id": "f1U0H5Aqs6MW",
        "outputId": "171443b8-41de-4a90-d5d8-9e1c9df9ffc3"
      },
      "execution_count": null,
      "outputs": [
        {
          "output_type": "execute_result",
          "data": {
            "text/plain": [
              "(18881, 9)"
            ]
          },
          "metadata": {},
          "execution_count": 187
        }
      ]
    },
    {
      "cell_type": "code",
      "source": [
        "import tensorflow as tf\n"
      ],
      "metadata": {
        "id": "ngu5xwrWplz1"
      },
      "execution_count": null,
      "outputs": []
    },
    {
      "cell_type": "code",
      "source": [
        "#Build model\n",
        "\n",
        "model=tf.keras.Sequential()"
      ],
      "metadata": {
        "id": "rD5I9NQepwL-"
      },
      "execution_count": null,
      "outputs": []
    },
    {
      "cell_type": "code",
      "source": [
        "bias=tf.keras.initializers.HeNormal()\n",
        "\n",
        "#model.add(tf.keras.layers.Dense(10,kernel_initializer=\"he_normal\",use_bias=True,bias_initializer=bias,input_shape=(9,)))\n",
        "#model.add(tf.keras.layers.Dense(20,kernel_initializer=\"he_normal\",use_bias=True,bias_initializer=bias))\n",
        "model.add(tf.keras.layers.Dense(1,kernel_initializer=\"he_normal\",use_bias=True,bias_initializer=bias,input_shape=(9,)))"
      ],
      "metadata": {
        "id": "sSRrS3iMqU8q"
      },
      "execution_count": null,
      "outputs": []
    },
    {
      "cell_type": "code",
      "source": [
        "model.summary()"
      ],
      "metadata": {
        "colab": {
          "base_uri": "https://localhost:8080/"
        },
        "id": "vKsDJYLus_Ve",
        "outputId": "5b6acb09-3cc4-42c7-aabd-c07c3f60624d"
      },
      "execution_count": null,
      "outputs": [
        {
          "output_type": "stream",
          "name": "stdout",
          "text": [
            "Model: \"sequential_5\"\n",
            "_________________________________________________________________\n",
            " Layer (type)                Output Shape              Param #   \n",
            "=================================================================\n",
            " dense_5 (Dense)             (None, 1)                 10        \n",
            "                                                                 \n",
            "=================================================================\n",
            "Total params: 10\n",
            "Trainable params: 10\n",
            "Non-trainable params: 0\n",
            "_________________________________________________________________\n"
          ]
        }
      ]
    },
    {
      "cell_type": "code",
      "source": [
        "model.compile(optimizer=tf.keras.optimizers.Adam(0.1),loss=tf.keras.losses.MeanSquaredError(),metrics=[tf.keras.metrics.RootMeanSquaredError()])"
      ],
      "metadata": {
        "id": "BHERl9jsuHoB"
      },
      "execution_count": null,
      "outputs": []
    },
    {
      "cell_type": "code",
      "source": [
        "learning=model.fit(X_train,y_train,epochs=20,batch_size=16,verbose=True)"
      ],
      "metadata": {
        "colab": {
          "base_uri": "https://localhost:8080/"
        },
        "id": "71Wo-Psxvqju",
        "outputId": "ca262a6b-1b88-4c60-9b3a-24f3135af71b"
      },
      "execution_count": null,
      "outputs": [
        {
          "output_type": "stream",
          "name": "stdout",
          "text": [
            "Epoch 1/20\n",
            "1181/1181 [==============================] - 3s 2ms/step - loss: 250.6020 - root_mean_squared_error: 15.8304\n",
            "Epoch 2/20\n",
            "1181/1181 [==============================] - 2s 2ms/step - loss: 223.0868 - root_mean_squared_error: 14.9361\n",
            "Epoch 3/20\n",
            "1181/1181 [==============================] - 3s 3ms/step - loss: 221.2023 - root_mean_squared_error: 14.8729\n",
            "Epoch 4/20\n",
            "1181/1181 [==============================] - 2s 2ms/step - loss: 219.5396 - root_mean_squared_error: 14.8169\n",
            "Epoch 5/20\n",
            "1181/1181 [==============================] - 2s 2ms/step - loss: 218.9216 - root_mean_squared_error: 14.7960\n",
            "Epoch 6/20\n",
            "1181/1181 [==============================] - 2s 2ms/step - loss: 218.1696 - root_mean_squared_error: 14.7706\n",
            "Epoch 7/20\n",
            "1181/1181 [==============================] - 2s 2ms/step - loss: 218.4741 - root_mean_squared_error: 14.7809\n",
            "Epoch 8/20\n",
            "1181/1181 [==============================] - 2s 2ms/step - loss: 219.4099 - root_mean_squared_error: 14.8125\n",
            "Epoch 9/20\n",
            "1181/1181 [==============================] - 3s 3ms/step - loss: 216.8300 - root_mean_squared_error: 14.7251\n",
            "Epoch 10/20\n",
            "1181/1181 [==============================] - 2s 2ms/step - loss: 216.8592 - root_mean_squared_error: 14.7261\n",
            "Epoch 11/20\n",
            "1181/1181 [==============================] - 2s 2ms/step - loss: 217.3886 - root_mean_squared_error: 14.7441\n",
            "Epoch 12/20\n",
            "1181/1181 [==============================] - 2s 2ms/step - loss: 217.1910 - root_mean_squared_error: 14.7374\n",
            "Epoch 13/20\n",
            "1181/1181 [==============================] - 2s 2ms/step - loss: 216.4612 - root_mean_squared_error: 14.7126\n",
            "Epoch 14/20\n",
            "1181/1181 [==============================] - 2s 2ms/step - loss: 216.6780 - root_mean_squared_error: 14.7200\n",
            "Epoch 15/20\n",
            "1181/1181 [==============================] - 3s 3ms/step - loss: 216.3337 - root_mean_squared_error: 14.7083\n",
            "Epoch 16/20\n",
            "1181/1181 [==============================] - 2s 2ms/step - loss: 216.8895 - root_mean_squared_error: 14.7272\n",
            "Epoch 17/20\n",
            "1181/1181 [==============================] - 2s 2ms/step - loss: 218.1993 - root_mean_squared_error: 14.7716\n",
            "Epoch 18/20\n",
            "1181/1181 [==============================] - 2s 2ms/step - loss: 215.2251 - root_mean_squared_error: 14.6706\n",
            "Epoch 19/20\n",
            "1181/1181 [==============================] - 2s 2ms/step - loss: 215.5197 - root_mean_squared_error: 14.6806\n",
            "Epoch 20/20\n",
            "1181/1181 [==============================] - 2s 2ms/step - loss: 215.3112 - root_mean_squared_error: 14.6735\n"
          ]
        }
      ]
    },
    {
      "cell_type": "code",
      "source": [
        "import matplotlib.pyplot as plt"
      ],
      "metadata": {
        "id": "QLLtn7gEyNIE"
      },
      "execution_count": null,
      "outputs": []
    },
    {
      "cell_type": "code",
      "source": [
        "def plot(learning):\n",
        "  plt.plot(learning.history['loss'])\n",
        "  plt.xlabel(\"epochs\")\n",
        "  plt.ylabel(\"Cost\")\n",
        "\n",
        "  plt.show()\n"
      ],
      "metadata": {
        "id": "hcyJPqaAwmXP"
      },
      "execution_count": null,
      "outputs": []
    },
    {
      "cell_type": "code",
      "source": [
        "plot(learning)"
      ],
      "metadata": {
        "colab": {
          "base_uri": "https://localhost:8080/",
          "height": 449
        },
        "id": "qXR14ENhyfIE",
        "outputId": "e3d3d94e-db7a-4469-a374-b57593c14997"
      },
      "execution_count": null,
      "outputs": [
        {
          "output_type": "display_data",
          "data": {
            "text/plain": [
              "<Figure size 640x480 with 1 Axes>"
            ],
            "image/png": "[encoded data removed]"
          },
          "metadata": {}
        }
      ]
    },
    {
      "cell_type": "code",
      "source": [
        "model.weights"
      ],
      "metadata": {
        "id": "EX9x_DITjcsx",
        "outputId": "e79df952-a11f-4b22-fbc5-dcbc34aef2b4",
        "colab": {
          "base_uri": "https://localhost:8080/"
        }
      },
      "execution_count": null,
      "outputs": [
        {
          "output_type": "execute_result",
          "data": {
            "text/plain": [
              "[<tf.Variable 'dense_5/kernel:0' shape=(9, 1) dtype=float32, numpy=\n",
              " array([[ 1.2948776 ],\n",
              "        [-0.9871656 ],\n",
              "        [ 1.5682772 ],\n",
              "        [ 1.7771232 ],\n",
              "        [ 0.1619682 ],\n",
              "        [-0.0295419 ],\n",
              "        [-0.644777  ],\n",
              "        [ 1.3822633 ],\n",
              "        [-0.24721907]], dtype=float32)>,\n",
              " <tf.Variable 'dense_5/bias:0' shape=(1,) dtype=float32, numpy=array([40.54173], dtype=float32)>]"
            ]
          },
          "metadata": {},
          "execution_count": 211
        }
      ]
    },
    {
      "cell_type": "code",
      "source": [
        "import joblib\n",
        "\n",
        "joblib.dump(model,\"model2.pkl\")"
      ],
      "metadata": {
        "id": "pIIEs_lHme7t",
        "outputId": "2cccc6cd-90b9-41db-ef2b-ea26d931e79f",
        "colab": {
          "base_uri": "https://localhost:8080/"
        }
      },
      "execution_count": null,
      "outputs": [
        {
          "output_type": "execute_result",
          "data": {
            "text/plain": [
              "['model2.pkl']"
            ]
          },
          "metadata": {},
          "execution_count": 216
        }
      ]
    },
    {
      "cell_type": "code",
      "source": [
        "#loading\n",
        "p_model=joblib.load(\"model2.pkl\")"
      ],
      "metadata": {
        "id": "t0HmeF6EsKWp"
      },
      "execution_count": null,
      "outputs": []
    },
    {
      "cell_type": "code",
      "source": [
        "p_model.summary()"
      ],
      "metadata": {
        "id": "3CzqSjGYsWFb",
        "outputId": "8fd0ba5d-16ce-4ee6-b1eb-4cefb238ee23",
        "colab": {
          "base_uri": "https://localhost:8080/"
        }
      },
      "execution_count": null,
      "outputs": [
        {
          "output_type": "stream",
          "name": "stdout",
          "text": [
            "Model: \"sequential_5\"\n",
            "_________________________________________________________________\n",
            " Layer (type)                Output Shape              Param #   \n",
            "=================================================================\n",
            " dense_5 (Dense)             (None, 1)                 10        \n",
            "                                                                 \n",
            "=================================================================\n",
            "Total params: 10\n",
            "Trainable params: 10\n",
            "Non-trainable params: 0\n",
            "_________________________________________________________________\n"
          ]
        }
      ]
    },
    {
      "cell_type": "code",
      "source": [
        "p_model.predict(X_test)"
      ],
      "metadata": {
        "id": "MjuHLl6esYkT",
        "outputId": "ead0ed5f-4e41-45e5-ad69-d4804055621c",
        "colab": {
          "base_uri": "https://localhost:8080/"
        }
      },
      "execution_count": null,
      "outputs": [
        {
          "output_type": "stream",
          "name": "stdout",
          "text": [
            "197/197 [==============================] - 0s 1ms/step\n"
          ]
        },
        {
          "output_type": "execute_result",
          "data": {
            "text/plain": [
              "array([[44.247   ],\n",
              "       [44.49422 ],\n",
              "       [37.73932 ],\n",
              "       ...,\n",
              "       [44.247   ],\n",
              "       [45.541878],\n",
              "       [37.29304 ]], dtype=float32)"
            ]
          },
          "metadata": {},
          "execution_count": 219
        }
      ]
    },
    {
      "cell_type": "code",
      "source": [
        "jsonfile=model.to_json()\n",
        "with open (\"model.json\",\"w\") as f:\n",
        "  f.write(jsonfile)\n",
        "\n",
        "model.save_weights(\"model.h5\")"
      ],
      "metadata": {
        "id": "BLqEiXPIs84b"
      },
      "execution_count": null,
      "outputs": []
    }
  ],
  "metadata": {
    "colab": {
      "provenance": []
    },
    "kernelspec": {
      "display_name": "Python 3",
      "name": "python3"
    },
    "language_info": {
      "name": "python"
    }
  },
  "nbformat": 4,
  "nbformat_minor": 0
}